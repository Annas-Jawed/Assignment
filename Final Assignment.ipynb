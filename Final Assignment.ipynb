{
 "cells": [
  {
   "cell_type": "markdown",
   "metadata": {},
   "source": [
    "# Name : Muhammad Annas Jawed\n",
    "# Roll No. : AIC017388\n",
    "# Teacher : Sir Muhammad Qasim\n",
    "# Institute : Saylani Head Office Bahadurabad\n",
    "# Day and Time : Saturday and 6:45 - 9:45"
   ]
  },
  {
   "cell_type": "markdown",
   "metadata": {},
   "source": [
    "# 1. Area of circle"
   ]
  },
  {
   "cell_type": "code",
   "execution_count": 1,
   "metadata": {},
   "outputs": [
    {
     "name": "stdout",
     "output_type": "stream",
     "text": [
      "Enter the radius: 0.5\n",
      "The area of circle is 0.7857142857142857\n"
     ]
    }
   ],
   "source": [
    "radius = float(input(\"Enter the radius: \"))\n",
    "area = str((22/7)*radius*radius)\n",
    "print(\"The area of circle is \" + area)"
   ]
  },
  {
   "cell_type": "markdown",
   "metadata": {},
   "source": [
    "# 2. Check number either positive, negative or zero"
   ]
  },
  {
   "cell_type": "code",
   "execution_count": 2,
   "metadata": {},
   "outputs": [
    {
     "name": "stdout",
     "output_type": "stream",
     "text": [
      "Enter a number: -6\n",
      "Negative Number Entered\n"
     ]
    }
   ],
   "source": [
    "num = int(input(\"Enter a number: \"))\n",
    "if num < 0:\n",
    "    print(\"Negative Number Entered\")\n",
    "elif num > 0:\n",
    "    print(\"Positive Number Entered\")\n",
    "else:\n",
    "    print(\"Zero Entered\")"
   ]
  },
  {
   "cell_type": "markdown",
   "metadata": {},
   "source": [
    "# 3. Divisibility check of two numbers"
   ]
  },
  {
   "cell_type": "code",
   "execution_count": 3,
   "metadata": {},
   "outputs": [
    {
     "name": "stdout",
     "output_type": "stream",
     "text": [
      "Enter numerator: 6\n",
      "Enter denominator: 7\n",
      "Number  6  is not completely divisible by  7\n"
     ]
    }
   ],
   "source": [
    "first_num = int(input(\"Enter numerator: \"))\n",
    "second_num = int(input(\"Enter denominator: \"))\n",
    "if first_num % second_num == 0:\n",
    "    print(\"Number \", first_num, \" is completely divisible by \", second_num)\n",
    "else:\n",
    "    print(\"Number \", first_num, \" is not completely divisible by \", second_num)"
   ]
  },
  {
   "cell_type": "markdown",
   "metadata": {},
   "source": [
    "# 4. Days Calculator"
   ]
  },
  {
   "cell_type": "code",
   "execution_count": 4,
   "metadata": {},
   "outputs": [
    {
     "name": "stdout",
     "output_type": "stream",
     "text": [
      "Enter a date in (dd/mm/yy) format: 23/06/2015\n",
      "Enter a date in (dd/mm/yy) format: 02/07/2015\n",
      "There are  9  in betweeen  23/06/2015  and  02/07/2015\n"
     ]
    }
   ],
   "source": [
    "from datetime import datetime\n",
    "date_format = \"%d/%m/%Y\"\n",
    "first_date = input(\"Enter a date in (dd/mm/yy) format: \")\n",
    "second_date = input(\"Enter a date in (dd/mm/yy) format: \") \n",
    "first = datetime.strptime( first_date , date_format)\n",
    "second = datetime.strptime( second_date , date_format)\n",
    "no_of_days = second - first\n",
    "print(\"There are \", no_of_days.days, \" in betweeen \", first_date, \" and \", second_date)"
   ]
  },
  {
   "cell_type": "markdown",
   "metadata": {},
   "source": [
    "# 5. Volume of a sphere"
   ]
  },
  {
   "cell_type": "code",
   "execution_count": 5,
   "metadata": {},
   "outputs": [
    {
     "name": "stdout",
     "output_type": "stream",
     "text": [
      "Enter radius of sphere :1\n",
      "Volume of sphere with radius  1 is  4.19047619047619\n"
     ]
    }
   ],
   "source": [
    "radius = int(input(\"Enter radius of sphere :\"))\n",
    "volume = (4/3) * (22/7) * radius * radius * radius \n",
    "print(\"Volume of sphere with radius \", radius, \"is \", volume)"
   ]
  },
  {
   "cell_type": "markdown",
   "metadata": {},
   "source": [
    "# 6. Copy string n times "
   ]
  },
  {
   "cell_type": "code",
   "execution_count": 7,
   "metadata": {},
   "outputs": [
    {
     "name": "stdout",
     "output_type": "stream",
     "text": [
      "Enter String: hello\n",
      "How many copies of String you need: 5\n",
      "5  Copies of  hello  are  hellohellohellohellohello\n"
     ]
    }
   ],
   "source": [
    "string = input(\"Enter String: \")\n",
    "num = int(input(\"How many copies of String you need: \"))\n",
    "print(num, \" Copies of \", string, \" are \", num*string)"
   ]
  },
  {
   "cell_type": "markdown",
   "metadata": {},
   "source": [
    "# 7. Check if number is even or odd"
   ]
  },
  {
   "cell_type": "code",
   "execution_count": 8,
   "metadata": {},
   "outputs": [
    {
     "name": "stdout",
     "output_type": "stream",
     "text": [
      "Enter a number: 7\n",
      "7 is odd\n"
     ]
    }
   ],
   "source": [
    "num = int(input(\"Enter a number: \"))\n",
    "if num % 2 == 0:\n",
    "    print(num, \"is even\")\n",
    "else:\n",
    "    print(num, \"is odd\")"
   ]
  },
  {
   "cell_type": "markdown",
   "metadata": {},
   "source": [
    "# 8. Vowel Tester"
   ]
  },
  {
   "cell_type": "code",
   "execution_count": 9,
   "metadata": {},
   "outputs": [
    {
     "name": "stdout",
     "output_type": "stream",
     "text": [
      "Enter a character: i\n",
      "Letter i is a vowel\n"
     ]
    }
   ],
   "source": [
    "vowel = input(\"Enter a character: \")\n",
    "if vowel in ('a', 'A', 'e', 'E', 'I', 'i', 'o', 'O', 'u', 'U'):\n",
    "    print(\"Letter\", vowel, \"is a vowel\")\n",
    "else:\n",
    "    print(\"Letter\", vowel, \"is not a vowel\")"
   ]
  },
  {
   "cell_type": "markdown",
   "metadata": {},
   "source": [
    "# 9. Triangle Area"
   ]
  },
  {
   "cell_type": "code",
   "execution_count": 10,
   "metadata": {},
   "outputs": [
    {
     "name": "stdout",
     "output_type": "stream",
     "text": [
      "Enter magnitude of triangle base: 4\n",
      "Enter magnitude of triangle height: 4\n",
      "Area of triangle with height  4 and base  4 is  8.0\n"
     ]
    }
   ],
   "source": [
    "base = int(input(\"Enter magnitude of triangle base: \"))\n",
    "height = int(input(\"Enter magnitude of triangle height: \"))\n",
    "area = (1/2) * base * height\n",
    "print(\"Area of triangle with height \", height, \"and base \", base, \"is \", area)"
   ]
  },
  {
   "cell_type": "markdown",
   "metadata": {},
   "source": [
    "# 10. Calculate Interest"
   ]
  },
  {
   "cell_type": "code",
   "execution_count": 11,
   "metadata": {},
   "outputs": [
    {
     "name": "stdout",
     "output_type": "stream",
     "text": [
      "Please enter principal amount: 10000\n",
      "Please enter rate of interest in %: 0.1\n",
      "Enter number of years for investment: 5\n",
      "After 5 years your principal amount 10000 over an interest rate of 0.1 % will be 16105.1\n"
     ]
    }
   ],
   "source": [
    "amount = int(input(\"Please enter principal amount: \"))\n",
    "rate = float(input(\"Please enter rate of interest in %: \"))\n",
    "years = int(input(\"Enter number of years for investment: \"))\n",
    "c = amount   #in order to print the initital principal amount because the \"amount\" value will be changed in while loop\n",
    "a = rate * amount\n",
    "b = 0\n",
    "while b < years:\n",
    "    amount += a\n",
    "    a = rate * amount\n",
    "    b += 1\n",
    "print(\"After\", years, \"years your principal amount\", c, \"over an interest rate of\", rate, \"% will be\", amount)"
   ]
  },
  {
   "cell_type": "markdown",
   "metadata": {},
   "source": [
    "# 11. Euclidean distance"
   ]
  },
  {
   "cell_type": "code",
   "execution_count": 12,
   "metadata": {},
   "outputs": [
    {
     "name": "stdout",
     "output_type": "stream",
     "text": [
      "Enter Co-ordinate for x1: 2\n",
      "Enter Co-ordinate for x2: 4\n",
      "Enter Co-ordinate for y1: 4\n",
      "Enter Co-ordinate for y2: 4\n",
      "Distance between points ( 2 , 4 ) and ( 4 , 4 ) is 2.0\n"
     ]
    }
   ],
   "source": [
    "import math\n",
    "x1 = int(input(\"Enter Co-ordinate for x1: \"))\n",
    "x2 = int(input(\"Enter Co-ordinate for x2: \"))\n",
    "y1 = int(input(\"Enter Co-ordinate for y1: \"))\n",
    "y2 = int(input(\"Enter Co-ordinate for y2: \"))\n",
    "a = ((x2 - x1) * (x2 - x1)) + ((y2 - y1) * (y2 - y1))\n",
    "b = math.sqrt(a)\n",
    "print(\"Distance between points (\",x1,\",\",y1,\") and (\",x2,\",\",y2,\") is\", b)"
   ]
  },
  {
   "cell_type": "markdown",
   "metadata": {},
   "source": [
    "# 12. Feet to Centimeter Converter"
   ]
  },
  {
   "cell_type": "code",
   "execution_count": 13,
   "metadata": {},
   "outputs": [
    {
     "name": "stdout",
     "output_type": "stream",
     "text": [
      "Enter height in Feet: 5\n",
      "There are 152.4 cm in 5.0 ft\n"
     ]
    }
   ],
   "source": [
    "a = float(input(\"Enter height in Feet: \"))\n",
    "b = a * 30.48\n",
    "print(\"There are\", b ,\"cm in\", a, \"ft\" )"
   ]
  },
  {
   "cell_type": "markdown",
   "metadata": {},
   "source": [
    "# 13. BMI Calculator"
   ]
  },
  {
   "cell_type": "code",
   "execution_count": 14,
   "metadata": {},
   "outputs": [
    {
     "name": "stdout",
     "output_type": "stream",
     "text": [
      "Enter height in cm: 180\n",
      "Enter weight in kg: 75\n",
      "Your BMI is 23.148148148148145\n"
     ]
    }
   ],
   "source": [
    "a = int(input(\"Enter height in cm: \"))\n",
    "b = int(input(\"Enter weight in kg: \"))\n",
    "c = a/100\n",
    "bmi = b / (c * c)\n",
    "print(\"Your BMI is\", bmi)"
   ]
  },
  {
   "cell_type": "markdown",
   "metadata": {},
   "source": [
    "# 14. Sum of n positive integer"
   ]
  },
  {
   "cell_type": "code",
   "execution_count": 15,
   "metadata": {},
   "outputs": [
    {
     "name": "stdout",
     "output_type": "stream",
     "text": [
      "Enter value of n: 5\n",
      "Sum of n positive integers till 5 is 15\n"
     ]
    }
   ],
   "source": [
    "num = int(input(\"Enter value of n: \"))\n",
    "b = 0 # this variable is used for initiating and terminating loop\n",
    "c = 0  # this variable is used for addition purpose\n",
    "while b <= num:\n",
    "    c += b\n",
    "    b += 1\n",
    "print(\"Sum of n positive integers till\", num, \"is\", c)"
   ]
  },
  {
   "cell_type": "markdown",
   "metadata": {},
   "source": [
    "# Another method"
   ]
  },
  {
   "cell_type": "code",
   "execution_count": 16,
   "metadata": {},
   "outputs": [
    {
     "name": "stdout",
     "output_type": "stream",
     "text": [
      "Enter value of n: 6\n",
      "Sum of n positive integers till 6 is 21.0\n"
     ]
    }
   ],
   "source": [
    "num = int(input(\"Enter value of n: \"))\n",
    "s = int(num *((2 * 1) + (num - 1)*(1)))/2\n",
    "print(\"Sum of n positive integers till\", num, \"is\", s)"
   ]
  },
  {
   "cell_type": "markdown",
   "metadata": {},
   "source": [
    "# 15. Digits Sum of a Number "
   ]
  },
  {
   "cell_type": "code",
   "execution_count": 17,
   "metadata": {},
   "outputs": [
    {
     "name": "stdout",
     "output_type": "stream",
     "text": [
      "Enter a number: 45\n",
      "Sum of 4 + 5 is 9\n"
     ]
    }
   ],
   "source": [
    "num = str(input(\"Enter a number: \"))\n",
    "a = 0\n",
    "for y in num:\n",
    "    a += int(y)\n",
    "print(\"Sum of\", ' + '.join(map(str,num)),\"is\", a)"
   ]
  },
  {
   "cell_type": "markdown",
   "metadata": {},
   "source": [
    "# 16. Decimal to Binary Converter "
   ]
  },
  {
   "cell_type": "code",
   "execution_count": 18,
   "metadata": {},
   "outputs": [
    {
     "name": "stdout",
     "output_type": "stream",
     "text": [
      "Enter a decimal number: 32\n",
      "Binary representation of 32 is 100000\n"
     ]
    }
   ],
   "source": [
    "dec = int(input(\"Enter a decimal number: \"))\n",
    "a = bin(dec)[2:] # first two numbers  '0b' represent that its binary therefore slicing it to get only the desired result\n",
    "print(\"Binary representation of\", dec, \"is\", a)"
   ]
  },
  {
   "cell_type": "markdown",
   "metadata": {},
   "source": [
    "# 17. Binary to Decimal Converter"
   ]
  },
  {
   "cell_type": "code",
   "execution_count": 20,
   "metadata": {},
   "outputs": [
    {
     "name": "stdout",
     "output_type": "stream",
     "text": [
      "Enter a binary number: 1000\n",
      "Decimal representation of 1000 is 8\n"
     ]
    }
   ],
   "source": [
    "num = input(\"Enter a binary number: \")\n",
    "a = int(num, 2)\n",
    "print(\"Decimal representation of\", num, \"is\", a)"
   ]
  },
  {
   "cell_type": "markdown",
   "metadata": {},
   "source": [
    "# 18. Vowel and Consonants Counter"
   ]
  },
  {
   "cell_type": "code",
   "execution_count": 21,
   "metadata": {},
   "outputs": [
    {
     "name": "stdout",
     "output_type": "stream",
     "text": [
      "Enter text: QuickBrownFoxJumpsovertheDog\n",
      "Vowels: 9 \n",
      "Consonants: 19\n"
     ]
    }
   ],
   "source": [
    "hey = input(\"Enter text: \")\n",
    "vowel = 0\n",
    "consonants = 0\n",
    "for y in hey:\n",
    "    if y in ('A', 'a', 'e', 'E', 'i', 'I', 'o', 'O', 'u', 'U'):\n",
    "        vowel += 1\n",
    "    else:\n",
    "        consonants += 1\n",
    "print(\"Vowels:\", vowel, \"\\nConsonants:\", consonants)"
   ]
  },
  {
   "cell_type": "markdown",
   "metadata": {},
   "source": [
    "# 19. Palindrome Tester"
   ]
  },
  {
   "cell_type": "code",
   "execution_count": 1,
   "metadata": {},
   "outputs": [
    {
     "name": "stdout",
     "output_type": "stream",
     "text": [
      "Enter text: madam\n",
      "Text madam is a Palindrome\n"
     ]
    }
   ],
   "source": [
    "text = input(\"Enter text: \")\n",
    "reverse_text = text[::-1]   #slicing whose syntax is string[start:end:step] and I have reverse the steps\n",
    "if text == reverse_text:\n",
    "    print(\"Text\",text,\"is a Palindrome\")\n",
    "else:\n",
    "    print(\"Text\",text,\"is not a Palindrome\")"
   ]
  },
  {
   "cell_type": "markdown",
   "metadata": {},
   "source": [
    "# 20. Count Alphabets, Numbers and Special Characters"
   ]
  },
  {
   "cell_type": "code",
   "execution_count": 2,
   "metadata": {},
   "outputs": [
    {
     "name": "stdout",
     "output_type": "stream",
     "text": [
      "Enter text: python 3.2\n",
      "Numbers = 2 \n",
      "Alphabets = 6 \n",
      "Special Characters = 1 \n",
      "Spaces = 1\n"
     ]
    }
   ],
   "source": [
    "text = input(\"Enter text: \")\n",
    "num = 0\n",
    "alph = 0\n",
    "sp_chr = 0\n",
    "spaces = 0\n",
    "for y in text:\n",
    "    if (ord(y) >= 48) and (ord(y) <= 57):\n",
    "        num += 1\n",
    "    elif ((ord(y) >= 65) and (ord(y) <= 90)) or ((ord(y) >= 97) and (ord(y) <= 122)):\n",
    "        alph += 1\n",
    "    elif (ord(y) == 32):\n",
    "        spaces += 1\n",
    "    else:\n",
    "        sp_chr += 1\n",
    "print(\"Numbers =\",num, \"\\nAlphabets =\",alph, \"\\nSpecial Characters =\",sp_chr, \"\\nSpaces =\",spaces)"
   ]
  },
  {
   "cell_type": "markdown",
   "metadata": {},
   "source": [
    "# 21. Pattern"
   ]
  },
  {
   "cell_type": "code",
   "execution_count": 3,
   "metadata": {},
   "outputs": [
    {
     "name": "stdout",
     "output_type": "stream",
     "text": [
      "* \n",
      "\n",
      "* * \n",
      "\n",
      "* * * \n",
      "\n",
      "* * * * \n",
      "\n",
      "* * * * * \n",
      "\n",
      "* * * * \n",
      "\n",
      "* * * \n",
      "\n",
      "* * \n",
      "\n",
      "* \n",
      "\n"
     ]
    }
   ],
   "source": [
    "num = 5\n",
    "for x in range(1,num+1):\n",
    "    for y in range(1,x+1):\n",
    "        print('*', end=' ')\n",
    "    print(\"\\n\")\n",
    "for x in range(1,num):\n",
    "    for y in range(x,num):\n",
    "        print(\"*\", end=' ')\n",
    "    print(\"\\n\")"
   ]
  },
  {
   "cell_type": "markdown",
   "metadata": {},
   "source": [
    "# 22. Pattern\n"
   ]
  },
  {
   "cell_type": "code",
   "execution_count": 4,
   "metadata": {},
   "outputs": [
    {
     "name": "stdout",
     "output_type": "stream",
     "text": [
      "1 \n",
      "\n",
      "1 2 \n",
      "\n",
      "1 2 3 \n",
      "\n",
      "1 2 3 4 \n",
      "\n",
      "1 2 3 4 5 \n",
      "\n",
      "1 2 3 4 \n",
      "\n",
      "1 2 3 \n",
      "\n",
      "1 2 \n",
      "\n",
      "1 \n",
      "\n"
     ]
    }
   ],
   "source": [
    "num = 5\n",
    "for x in range(1,num+1):\n",
    "    for y in range(1,x+1):\n",
    "        print(y,end=\" \")\n",
    "    print(\"\\n\")\n",
    "for x in range(num,1,-1):\n",
    "    for y in range(1,x):\n",
    "        print(y,end=' ')\n",
    "    print('\\n')"
   ]
  },
  {
   "cell_type": "markdown",
   "metadata": {},
   "source": [
    "# 23. Pattern"
   ]
  },
  {
   "cell_type": "code",
   "execution_count": 5,
   "metadata": {},
   "outputs": [
    {
     "name": "stdout",
     "output_type": "stream",
     "text": [
      "1 \n",
      "\n",
      "2 2 \n",
      "\n",
      "3 3 3 \n",
      "\n",
      "4 4 4 4 \n",
      "\n",
      "5 5 5 5 5 \n",
      "\n",
      "6 6 6 6 6 6 \n",
      "\n",
      "7 7 7 7 7 7 7 \n",
      "\n",
      "8 8 8 8 8 8 8 8 \n",
      "\n",
      "9 9 9 9 9 9 9 9 9 \n",
      "\n"
     ]
    }
   ],
   "source": [
    "num = 9\n",
    "for x in range(1,num+1):\n",
    "    for y in range(1,x+1):\n",
    "        print(x,end=\" \")\n",
    "    print(\"\\n\")"
   ]
  },
  {
   "cell_type": "code",
   "execution_count": null,
   "metadata": {},
   "outputs": [],
   "source": []
  }
 ],
 "metadata": {
  "kernelspec": {
   "display_name": "Python 3",
   "language": "python",
   "name": "python3"
  },
  "language_info": {
   "codemirror_mode": {
    "name": "ipython",
    "version": 3
   },
   "file_extension": ".py",
   "mimetype": "text/x-python",
   "name": "python",
   "nbconvert_exporter": "python",
   "pygments_lexer": "ipython3",
   "version": "3.7.3"
  }
 },
 "nbformat": 4,
 "nbformat_minor": 2
}
